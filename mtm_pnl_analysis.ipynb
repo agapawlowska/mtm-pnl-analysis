{
 "cells": [
  {
   "cell_type": "code",
   "execution_count": 1,
   "id": "6e86138e",
   "metadata": {},
   "outputs": [],
   "source": [
    "import pandas as pd\n",
    "import matplotlib.pyplot  as plt"
   ]
  },
  {
   "cell_type": "markdown",
   "id": "0d8ebd94",
   "metadata": {},
   "source": [
    "Import data"
   ]
  },
  {
   "cell_type": "code",
   "execution_count": 2,
   "id": "4964f4c2",
   "metadata": {},
   "outputs": [],
   "source": [
    "trades = pd.read_csv(r\"filepath\\trades.csv\")\n",
    "market_data = pd.read_csv(r\"filepath\\market_data.csv\")\n",
    "positions_front = pd.read_csv(r\"filepath\\positions_front.csv\")\n",
    "positions_books = pd.read_csv(r\"filepath\\positions_books.csv\")"
   ]
  },
  {
   "cell_type": "markdown",
   "id": "fef66f9d",
   "metadata": {},
   "source": [
    "Mark-to-Market Value calculation"
   ]
  },
  {
   "cell_type": "code",
   "execution_count": 3,
   "id": "2845bf48",
   "metadata": {},
   "outputs": [
    {
     "data": {
      "text/html": [
       "<div>\n",
       "<style scoped>\n",
       "    .dataframe tbody tr th:only-of-type {\n",
       "        vertical-align: middle;\n",
       "    }\n",
       "\n",
       "    .dataframe tbody tr th {\n",
       "        vertical-align: top;\n",
       "    }\n",
       "\n",
       "    .dataframe thead th {\n",
       "        text-align: right;\n",
       "    }\n",
       "</style>\n",
       "<table border=\"1\" class=\"dataframe\">\n",
       "  <thead>\n",
       "    <tr style=\"text-align: right;\">\n",
       "      <th></th>\n",
       "      <th>trade_id</th>\n",
       "      <th>product</th>\n",
       "      <th>quantity</th>\n",
       "      <th>price</th>\n",
       "      <th>trade_date</th>\n",
       "      <th>market_price</th>\n",
       "      <th>mtm_value</th>\n",
       "      <th>pnl</th>\n",
       "    </tr>\n",
       "  </thead>\n",
       "  <tbody>\n",
       "    <tr>\n",
       "      <th>0</th>\n",
       "      <td>T001</td>\n",
       "      <td>FX Forward</td>\n",
       "      <td>100000</td>\n",
       "      <td>1.250</td>\n",
       "      <td>2025-04-19</td>\n",
       "      <td>1.2600</td>\n",
       "      <td>126000.0</td>\n",
       "      <td>1000.0</td>\n",
       "    </tr>\n",
       "    <tr>\n",
       "      <th>1</th>\n",
       "      <td>T002</td>\n",
       "      <td>Bond</td>\n",
       "      <td>200000</td>\n",
       "      <td>102.000</td>\n",
       "      <td>2025-04-19</td>\n",
       "      <td>101.8000</td>\n",
       "      <td>20360000.0</td>\n",
       "      <td>-40000.0</td>\n",
       "    </tr>\n",
       "    <tr>\n",
       "      <th>2</th>\n",
       "      <td>T004</td>\n",
       "      <td>Bond</td>\n",
       "      <td>150000</td>\n",
       "      <td>101.500</td>\n",
       "      <td>2025-04-19</td>\n",
       "      <td>101.8000</td>\n",
       "      <td>15270000.0</td>\n",
       "      <td>45000.0</td>\n",
       "    </tr>\n",
       "    <tr>\n",
       "      <th>3</th>\n",
       "      <td>T003</td>\n",
       "      <td>Interest Rate Swap</td>\n",
       "      <td>500000</td>\n",
       "      <td>0.012</td>\n",
       "      <td>2025-04-19</td>\n",
       "      <td>0.0115</td>\n",
       "      <td>5750.0</td>\n",
       "      <td>-250.0</td>\n",
       "    </tr>\n",
       "  </tbody>\n",
       "</table>\n",
       "</div>"
      ],
      "text/plain": [
       "  trade_id             product  quantity    price  trade_date  market_price  \\\n",
       "0     T001          FX Forward    100000    1.250  2025-04-19        1.2600   \n",
       "1     T002                Bond    200000  102.000  2025-04-19      101.8000   \n",
       "2     T004                Bond    150000  101.500  2025-04-19      101.8000   \n",
       "3     T003  Interest Rate Swap    500000    0.012  2025-04-19        0.0115   \n",
       "\n",
       "    mtm_value      pnl  \n",
       "0    126000.0   1000.0  \n",
       "1  20360000.0 -40000.0  \n",
       "2  15270000.0  45000.0  \n",
       "3      5750.0   -250.0  "
      ]
     },
     "execution_count": 3,
     "metadata": {},
     "output_type": "execute_result"
    }
   ],
   "source": [
    "#merge trades and market data on product\n",
    "mark_to_market = pd.merge(trades, market_data, how = 'inner', on = 'product')\n",
    "\n",
    "#calculate MtM per transacion\n",
    "mtm_value = mark_to_market['market_price'] * mark_to_market['quantity']\n",
    "mark_to_market['mtm_value'] = mtm_value\n",
    "\n",
    "#calculate PnL per transaction\n",
    "pnl = (mark_to_market['market_price'] - mark_to_market['price']) * mark_to_market['quantity']\n",
    "mark_to_market['pnl'] = pnl\n",
    "calculated_pnl  = mark_to_market['pnl'].sum()\n",
    "mark_to_market.head()"
   ]
  },
  {
   "cell_type": "markdown",
   "id": "84cb909e",
   "metadata": {},
   "source": [
    "Plot market value"
   ]
  },
  {
   "cell_type": "code",
   "execution_count": 4,
   "id": "8337200e",
   "metadata": {},
   "outputs": [
    {
     "data": {
      "image/png": "[encoded data removed]",
      "text/plain": [
       "<Figure size 432x288 with 1 Axes>"
      ]
     },
     "metadata": {
      "needs_background": "light"
     },
     "output_type": "display_data"
    }
   ],
   "source": [
    "plt.barh(mark_to_market['product'], mark_to_market['mtm_value'], color = 'skyblue')\n",
    "plt.xscale('symlog')\n",
    "plt.ylabel(\"Product\")\n",
    "plt.xlabel(\"Market value\")\n",
    "plt.title(\"Market value per product\")\n",
    "plt.show()"
   ]
  },
  {
   "cell_type": "markdown",
   "id": "fe875152",
   "metadata": {},
   "source": [
    "Reconciliation - Front office vs Books"
   ]
  },
  {
   "cell_type": "code",
   "execution_count": 5,
   "id": "e2ef6ec6",
   "metadata": {},
   "outputs": [
    {
     "data": {
      "text/html": [
       "<div>\n",
       "<style scoped>\n",
       "    .dataframe tbody tr th:only-of-type {\n",
       "        vertical-align: middle;\n",
       "    }\n",
       "\n",
       "    .dataframe tbody tr th {\n",
       "        vertical-align: top;\n",
       "    }\n",
       "\n",
       "    .dataframe thead th {\n",
       "        text-align: right;\n",
       "    }\n",
       "</style>\n",
       "<table border=\"1\" class=\"dataframe\">\n",
       "  <thead>\n",
       "    <tr style=\"text-align: right;\">\n",
       "      <th></th>\n",
       "      <th>trade_id</th>\n",
       "      <th>position_value_front</th>\n",
       "      <th>pnl_front</th>\n",
       "      <th>position_value_books</th>\n",
       "      <th>pnl_books</th>\n",
       "      <th>diff_position</th>\n",
       "    </tr>\n",
       "  </thead>\n",
       "  <tbody>\n",
       "    <tr>\n",
       "      <th>0</th>\n",
       "      <td>T001</td>\n",
       "      <td>126000</td>\n",
       "      <td>1000</td>\n",
       "      <td>126000</td>\n",
       "      <td>1000</td>\n",
       "      <td>0</td>\n",
       "    </tr>\n",
       "    <tr>\n",
       "      <th>1</th>\n",
       "      <td>T002</td>\n",
       "      <td>204000</td>\n",
       "      <td>4000</td>\n",
       "      <td>203600</td>\n",
       "      <td>3600</td>\n",
       "      <td>400</td>\n",
       "    </tr>\n",
       "    <tr>\n",
       "      <th>2</th>\n",
       "      <td>T003</td>\n",
       "      <td>6000</td>\n",
       "      <td>-250</td>\n",
       "      <td>5750</td>\n",
       "      <td>-250</td>\n",
       "      <td>250</td>\n",
       "    </tr>\n",
       "    <tr>\n",
       "      <th>3</th>\n",
       "      <td>T004</td>\n",
       "      <td>152250</td>\n",
       "      <td>1125</td>\n",
       "      <td>152000</td>\n",
       "      <td>1000</td>\n",
       "      <td>250</td>\n",
       "    </tr>\n",
       "  </tbody>\n",
       "</table>\n",
       "</div>"
      ],
      "text/plain": [
       "  trade_id  position_value_front  pnl_front  position_value_books  pnl_books  \\\n",
       "0     T001                126000       1000                126000       1000   \n",
       "1     T002                204000       4000                203600       3600   \n",
       "2     T003                  6000       -250                  5750       -250   \n",
       "3     T004                152250       1125                152000       1000   \n",
       "\n",
       "   diff_position  \n",
       "0              0  \n",
       "1            400  \n",
       "2            250  \n",
       "3            250  "
      ]
     },
     "execution_count": 5,
     "metadata": {},
     "output_type": "execute_result"
    }
   ],
   "source": [
    "reconciliation = pd.merge(positions_front, positions_books, how='inner',on='trade_id', suffixes=('_front','_books') )\n",
    "diff_position = reconciliation['position_value_front'] - reconciliation['position_value_books']\n",
    "reconciliation['diff_position'] = diff_position\n",
    "differences_rec = reconciliation[reconciliation['diff_position'] != 0]\n",
    "pnl_front_sum = reconciliation['pnl_front'].sum()\n",
    "pnl_books_sum = reconciliation['pnl_books'].sum()\n",
    "reconciliation.head()"
   ]
  },
  {
   "cell_type": "code",
   "execution_count": 6,
   "id": "614fb89f",
   "metadata": {},
   "outputs": [
    {
     "data": {
      "text/html": [
       "<div>\n",
       "<style scoped>\n",
       "    .dataframe tbody tr th:only-of-type {\n",
       "        vertical-align: middle;\n",
       "    }\n",
       "\n",
       "    .dataframe tbody tr th {\n",
       "        vertical-align: top;\n",
       "    }\n",
       "\n",
       "    .dataframe thead th {\n",
       "        text-align: right;\n",
       "    }\n",
       "</style>\n",
       "<table border=\"1\" class=\"dataframe\">\n",
       "  <thead>\n",
       "    <tr style=\"text-align: right;\">\n",
       "      <th></th>\n",
       "      <th>trade_id</th>\n",
       "      <th>diff_position</th>\n",
       "    </tr>\n",
       "  </thead>\n",
       "  <tbody>\n",
       "    <tr>\n",
       "      <th>1</th>\n",
       "      <td>T002</td>\n",
       "      <td>400</td>\n",
       "    </tr>\n",
       "    <tr>\n",
       "      <th>2</th>\n",
       "      <td>T003</td>\n",
       "      <td>250</td>\n",
       "    </tr>\n",
       "    <tr>\n",
       "      <th>3</th>\n",
       "      <td>T004</td>\n",
       "      <td>250</td>\n",
       "    </tr>\n",
       "  </tbody>\n",
       "</table>\n",
       "</div>"
      ],
      "text/plain": [
       "  trade_id  diff_position\n",
       "1     T002            400\n",
       "2     T003            250\n",
       "3     T004            250"
      ]
     },
     "execution_count": 6,
     "metadata": {},
     "output_type": "execute_result"
    }
   ],
   "source": [
    "differences_rec[['trade_id', 'diff_position']]"
   ]
  },
  {
   "cell_type": "code",
   "execution_count": 7,
   "id": "4ab51985",
   "metadata": {},
   "outputs": [],
   "source": [
    "max_diff_trade = differences_rec.loc[differences_rec['diff_position'].abs().idxmax()]"
   ]
  },
  {
   "cell_type": "markdown",
   "id": "125ba683",
   "metadata": {},
   "source": [
    "Plot PnL comparison"
   ]
  },
  {
   "cell_type": "code",
   "execution_count": 8,
   "id": "25681625",
   "metadata": {},
   "outputs": [
    {
     "data": {
      "text/plain": [
       "<BarContainer object of 3 artists>"
      ]
     },
     "execution_count": 8,
     "metadata": {},
     "output_type": "execute_result"
    },
    {
     "data": {
      "image/png": "[encoded data removed]",
      "text/plain": [
       "<Figure size 432x288 with 1 Axes>"
      ]
     },
     "metadata": {
      "needs_background": "light"
     },
     "output_type": "display_data"
    }
   ],
   "source": [
    "y = [round(calculated_pnl), pnl_front_sum, pnl_books_sum]\n",
    "x = ['calculated PnL', 'Front Office PnL', 'Product Control PnL']\n",
    "plt.xlim(5000, 6000)\n",
    "plt.xlabel('PnL')\n",
    "plt.title('PnL comparison')\n",
    "plt.barh(x, y, color = 'skyblue')"
   ]
  },
  {
   "cell_type": "code",
   "execution_count": 9,
   "id": "626f6222",
   "metadata": {},
   "outputs": [
    {
     "name": "stdout",
     "output_type": "stream",
     "text": [
      "Discrepancy detected!\n"
     ]
    }
   ],
   "source": [
    "if abs(calculated_pnl - pnl_front_sum) < 0.01:\n",
    "    print(\"PnL matches — no issues.\")\n",
    "else:\n",
    "    print(\"Discrepancy detected!\")"
   ]
  },
  {
   "cell_type": "markdown",
   "id": "956b532f",
   "metadata": {},
   "source": [
    "Summary:"
   ]
  },
  {
   "cell_type": "code",
   "execution_count": 10,
   "id": "08634307",
   "metadata": {},
   "outputs": [
    {
     "name": "stdout",
     "output_type": "stream",
     "text": [
      "==========================================================\n",
      "DAILY PNL RECONCILIATION REPORT\n",
      "============================================================\n",
      "Total calculated PnL (from MtM valuation):      5750 PLN\n",
      "Total Front Office PnL:                         5875 PLN\n",
      "Total Product Control PnL:                      5350 PLN\n",
      "------------------------------------------------------------\n",
      "Biggest discrepancy found for trade_id:         T002\n",
      "  - Front Office PnL:                           4000 PLN\n",
      "  - Product Control PnL:                        3600 PLN\n",
      "  - Difference:                                 400 PLN\n",
      "============================================================\n"
     ]
    }
   ],
   "source": [
    "print(\"=\"*58)\n",
    "print(\"DAILY PNL RECONCILIATION REPORT\")\n",
    "print(\"=\"*60)\n",
    "print(f\"Total calculated PnL (from MtM valuation):      {int(round(calculated_pnl,2))} PLN\")\n",
    "print(f\"Total Front Office PnL:                         {round(pnl_front_sum, 2)} PLN\")\n",
    "print(f\"Total Product Control PnL:                      {round(pnl_books_sum, 2)} PLN\")\n",
    "print(\"-\"*60)\n",
    "print(f\"Biggest discrepancy found for trade_id:         {max_diff_trade['trade_id']}\")\n",
    "print(f\"  - Front Office PnL:                           {max_diff_trade['pnl_front']} PLN\")\n",
    "print(f\"  - Product Control PnL:                        {max_diff_trade['pnl_books']} PLN\")\n",
    "print(f\"  - Difference:                                 {max_diff_trade['pnl_front'] - max_diff_trade['pnl_books']} PLN\")\n",
    "print(\"=\"*60)"
   ]
  }
 ],
 "metadata": {
  "kernelspec": {
   "display_name": "base",
   "language": "python",
   "name": "python3"
  },
  "language_info": {
   "codemirror_mode": {
    "name": "ipython",
    "version": 3
   },
   "file_extension": ".py",
   "mimetype": "text/x-python",
   "name": "python",
   "nbconvert_exporter": "python",
   "pygments_lexer": "ipython3",
   "version": "3.8.8"
  }
 },
 "nbformat": 4,
 "nbformat_minor": 5
}
